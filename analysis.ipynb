{
 "cells": [
  {
   "cell_type": "code",
   "execution_count": 4,
   "metadata": {},
   "outputs": [],
   "source": [
    "# Imports for initial statistical analysis\n",
    "import pandas as pd\n",
    "import statistics\n",
    "from sklearn import linear_model\n",
    "import numpy as np\n",
    "from matplotlib import pyplot as mlp"
   ]
  },
  {
   "cell_type": "code",
   "execution_count": 5,
   "metadata": {},
   "outputs": [
    {
     "name": "stdout",
     "output_type": "stream",
     "text": [
      "      age  sex  chest pain type  resting bp s  cholesterol  \\\n",
      "0      40    1                2           140          289   \n",
      "1      49    0                3           160          180   \n",
      "2      37    1                2           130          283   \n",
      "3      48    0                4           138          214   \n",
      "4      54    1                3           150          195   \n",
      "...   ...  ...              ...           ...          ...   \n",
      "1185   45    1                1           110          264   \n",
      "1186   68    1                4           144          193   \n",
      "1187   57    1                4           130          131   \n",
      "1188   57    0                2           130          236   \n",
      "1189   38    1                3           138          175   \n",
      "\n",
      "      fasting blood sugar  resting ecg  max heart rate  exercise angina  \\\n",
      "0                       0            0             172                0   \n",
      "1                       0            0             156                0   \n",
      "2                       0            1              98                0   \n",
      "3                       0            0             108                1   \n",
      "4                       0            0             122                0   \n",
      "...                   ...          ...             ...              ...   \n",
      "1185                    0            0             132                0   \n",
      "1186                    1            0             141                0   \n",
      "1187                    0            0             115                1   \n",
      "1188                    0            2             174                0   \n",
      "1189                    0            0             173                0   \n",
      "\n",
      "      oldpeak  ST slope  target  \n",
      "0         0.0         1       0  \n",
      "1         1.0         2       1  \n",
      "2         0.0         1       0  \n",
      "3         1.5         2       1  \n",
      "4         0.0         1       0  \n",
      "...       ...       ...     ...  \n",
      "1185      1.2         2       1  \n",
      "1186      3.4         2       1  \n",
      "1187      1.2         2       1  \n",
      "1188      0.0         2       1  \n",
      "1189      0.0         1       0  \n",
      "\n",
      "[1190 rows x 12 columns]\n"
     ]
    }
   ],
   "source": [
    "# Load the csv and store it in a dataframe\n",
    "data_path = \"/home/jag1799/Documents/vscode_ws/Heart_Disease_Prediction/archive/heart_statlog_cleveland_hungary_final.csv\"\n",
    "contents = pd.read_csv(data_path)\n",
    "\n",
    "df = pd.DataFrame(contents)\n",
    "print(df)"
   ]
  },
  {
   "cell_type": "code",
   "execution_count": 3,
   "metadata": {},
   "outputs": [
    {
     "name": "stdout",
     "output_type": "stream",
     "text": [
      "{'Mean': 53.72016806722689, 'Mode': 54, 'Quartile 1': 47.0, 'Median': 54.0, 'Quartile 3': 60.0, 'Variance': 87.57595960167077, 'Standard Deviation': 9.358202797635386}\n"
     ]
    }
   ],
   "source": [
    "def getDescriptiveStatistics(df : pd.DataFrame, column : str):\n",
    "    return {\n",
    "        \"Mean\": statistics.mean(df[column]),\n",
    "        \"Mode\": statistics.mode(df[column]),\n",
    "        \"Quartile 1\": statistics.quantiles(df[column])[0],\n",
    "        \"Median\": statistics.median(df[column]),\n",
    "        \"Quartile 3\": statistics.quantiles(df[column])[2],\n",
    "        \"Variance\": statistics.variance(df[column]),\n",
    "        \"Standard Deviation\": statistics.stdev(df[column])\n",
    "    }\n",
    "\n",
    "print(getDescriptiveStatistics(df, 'age'))"
   ]
  },
  {
   "cell_type": "code",
   "execution_count": null,
   "metadata": {},
   "outputs": [],
   "source": []
  }
 ],
 "metadata": {
  "kernelspec": {
   "display_name": "Python 3",
   "language": "python",
   "name": "python3"
  },
  "language_info": {
   "codemirror_mode": {
    "name": "ipython",
    "version": 3
   },
   "file_extension": ".py",
   "mimetype": "text/x-python",
   "name": "python",
   "nbconvert_exporter": "python",
   "pygments_lexer": "ipython3",
   "version": "3.8.10"
  }
 },
 "nbformat": 4,
 "nbformat_minor": 2
}
