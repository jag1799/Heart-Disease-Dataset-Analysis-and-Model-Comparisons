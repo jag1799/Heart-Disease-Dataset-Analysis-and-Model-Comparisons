{
 "cells": [
  {
   "cell_type": "markdown",
   "metadata": {},
   "source": [
    "# Introducing the Model\n",
    "\n",
    "Now that we have conducted a basic analysis of the data set and found the quantitative variable with the greatest correlation to the target variable, we can build a model using it to predict the likelihood of heart disease. We will use the *ST slope* variable from the data set because that had the greatest individual correlation with the target variable, 0.5056079709572009.\n",
    "\n",
    "**Note**: The column titled *target* is the ground truth value detailing whether a patient actually was diagnosed with heart disease or not.  "
   ]
  },
  {
   "cell_type": "code",
   "execution_count": 110,
   "metadata": {},
   "outputs": [],
   "source": [
    "from sklearn import linear_model, model_selection\n",
    "import numpy as np\n",
    "import pandas as pd\n",
    "\n",
    "df = pd.read_csv(\"./heart_statlog_cleveland_hungary_final.csv\")"
   ]
  },
  {
   "cell_type": "code",
   "execution_count": 118,
   "metadata": {},
   "outputs": [
    {
     "name": "stdout",
     "output_type": "stream",
     "text": [
      "The score of the model is: 0.24303684586473107\n"
     ]
    }
   ],
   "source": [
    "# Model for determining heart disease with ST slope\n",
    "model = linear_model.LinearRegression()\n",
    "\n",
    "df_binary = df.loc[:, ['ST slope', 'target']]\n",
    "\n",
    "X = np.array(df_binary['ST slope']).reshape(-1, 1)\n",
    "Y = np.array(df_binary['target']).reshape(-1, 1)\n",
    "\n",
    "X_train, X_test, Y_train, Y_test = model_selection.train_test_split(X, Y, test_size=0.5)\n",
    "\n",
    "model.fit(X_train, Y_train)\n",
    "print(f\"The score of the model is: {model.score(X_test, Y_test)}\")"
   ]
  },
  {
   "cell_type": "markdown",
   "metadata": {},
   "source": [
    "# Results\n",
    "\n",
    "The score of the model ranges between 0.2 to 0.3.  Thus, Linear Regression is not a good model choice for this data set and further analysis is required."
   ]
  }
 ],
 "metadata": {
  "kernelspec": {
   "display_name": "Python 3",
   "language": "python",
   "name": "python3"
  },
  "language_info": {
   "codemirror_mode": {
    "name": "ipython",
    "version": 3
   },
   "file_extension": ".py",
   "mimetype": "text/x-python",
   "name": "python",
   "nbconvert_exporter": "python",
   "pygments_lexer": "ipython3",
   "version": "3.8.10"
  }
 },
 "nbformat": 4,
 "nbformat_minor": 2
}
